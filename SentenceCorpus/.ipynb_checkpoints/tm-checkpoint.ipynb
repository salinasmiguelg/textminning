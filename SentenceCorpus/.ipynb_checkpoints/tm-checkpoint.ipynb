{
 "cells": [
  {
   "cell_type": "code",
   "execution_count": null,
   "metadata": {
    "vscode": {
     "languageId": "r"
    }
   },
   "outputs": [],
   "source": [
    "install.packages(\"RTextTools\")\n",
    "library(RTextTools)"
   ]
  },
  {
   "cell_type": "code",
   "execution_count": null,
   "metadata": {},
   "outputs": [],
   "source": [
    "# 1. Cargar los Datos Etiquetados\n",
    "files_labeled <- list.files(path=\"/content/labeled\", pattern=\"*.txt\", full.names=TRUE)\n",
    "all_sentences <- c()\n",
    "all_labels <- c()\n",
    "\n",
    "for(file in files_labeled) {\n",
    "  lines <- readLines(file)\n",
    "  \n",
    "  for(line in lines) {\n",
    "    if(!grepl(\"^###\", line) & nchar(line) > 0) {\n",
    "      label <- unlist(strsplit(line, \"\\t\"))[1]\n",
    "      sentence <- unlist(strsplit(line, \"\\t\"))[2]\n",
    "      all_sentences <- c(all_sentences, sentence)\n",
    "      all_labels <- c(all_labels, label)\n",
    "    }\n",
    "  }\n",
    "}\n",
    "\n",
    "LabeledData <- data.frame(text = all_sentences, label = all_labels)\n",
    "\n",
    "# 2. Preprocesamiento de Datos Etiquetados\n",
    "custom_stopwords <- readLines(\"/content/stopwords/stopwords.txt\")\n",
    "doc_matrix_labeled <- create_matrix(LabeledData$text, language=\"english\", removeNumbers=FALSE, stemWords=FALSE, removeSparseTerms=.998)\n",
    "# Remove stopwords post matrix creation\n",
    "doc_matrix_labeled <- removeWords(doc_matrix_labeled, custom_stopwords)\n",
    "\n",
    "\n",
    "# 3. Cargar los Datos Sin Etiquetar\n",
    "files_unlabeled <- list.files(path=\"/content/unlabeled\", pattern=\"*.txt\", full.names=TRUE)\n",
    "all_sentences_unlabeled <- c()\n",
    "\n",
    "for(file in files_unlabeled) {\n",
    "  lines <- readLines(file)\n",
    "  \n",
    "  for(line in lines) {\n",
    "    if(!grepl(\"^###\", line) & nchar(line) > 0) {\n",
    "      all_sentences_unlabeled <- c(all_sentences_unlabeled, line)\n",
    "    }\n",
    "  }\n",
    "}"
   ]
  }
 ],
 "metadata": {
  "language_info": {
   "name": "python"
  }
 },
 "nbformat": 4,
 "nbformat_minor": 2
}
